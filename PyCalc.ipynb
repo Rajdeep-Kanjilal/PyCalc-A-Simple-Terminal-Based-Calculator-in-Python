{
 "cells": [
  {
   "cell_type": "code",
   "execution_count": null,
   "id": "8b3754a2",
   "metadata": {},
   "outputs": [
    {
     "name": "stdout",
     "output_type": "stream",
     "text": [
      "Simple Calculator\n",
      "Choose operation:\n",
      "1. Add\n",
      "2. Subtract\n",
      "3. Multiply\n",
      "4. Divide\n"
     ]
    }
   ],
   "source": [
    "# Simple Calculator in Python\n",
    "\n",
    "def calculator():\n",
    "    print(\"Simple Calculator\")\n",
    "    print(\"Choose operation:\")\n",
    "    print(\"1. Add\")\n",
    "    print(\"2. Subtract\")\n",
    "    print(\"3. Multiply\")\n",
    "    print(\"4. Divide\")\n",
    "    \n",
    "    choice = input(\"Enter choice (1/2/3/4): \")\n",
    "\n",
    "    if choice in ['1', '2', '3', '4']:\n",
    "        try:\n",
    "            num1 = float(input(\"Enter first number: \"))\n",
    "            num2 = float(input(\"Enter second number: \"))\n",
    "        except ValueError:\n",
    "            print(\"Invalid input. Please enter numbers.\")\n",
    "            return\n",
    "\n",
    "        if choice == '1':\n",
    "            print(f\"Result: {num1 + num2}\")\n",
    "        elif choice == '2':\n",
    "            print(f\"Result: {num1 - num2}\")\n",
    "        elif choice == '3':\n",
    "            print(f\"Result: {num1 * num2}\")\n",
    "        elif choice == '4':\n",
    "            if num2 != 0:\n",
    "                print(f\"Result: {num1 / num2}\")\n",
    "            else:\n",
    "                print(\"Cannot divide by zero!\")\n",
    "    else:\n",
    "        print(\"Invalid choice!\")\n",
    "\n",
    "calculator()\n"
   ]
  },
  {
   "cell_type": "code",
   "execution_count": null,
   "id": "2fbce70f",
   "metadata": {},
   "outputs": [],
   "source": []
  }
 ],
 "metadata": {
  "kernelspec": {
   "display_name": "Python 3",
   "language": "python",
   "name": "python3"
  },
  "language_info": {
   "codemirror_mode": {
    "name": "ipython",
    "version": 3
   },
   "file_extension": ".py",
   "mimetype": "text/x-python",
   "name": "python",
   "nbconvert_exporter": "python",
   "pygments_lexer": "ipython3",
   "version": "3.8.8"
  }
 },
 "nbformat": 4,
 "nbformat_minor": 5
}
